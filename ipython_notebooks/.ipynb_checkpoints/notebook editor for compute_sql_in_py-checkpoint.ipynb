{
  "nbformat": 4,
  "nbformat_minor": 0,
  "metadata": {
    "kernelspec": {
      "display_name": "Python 3",
      "language": "python",
      "name": "python3"
    },
    "associatedRecipe": "compute_sql_in_py",
    "creator": "admin",
    "createdOn": 1638698807647,
    "tags": [
      "recipe-editor"
    ],
    "customFields": {}
  },
  "cells": [
    {
      "cell_type": "code",
      "metadata": {},
      "outputs": [],
      "execution_count": 0,
      "source": [
        "# -*- coding: utf-8 -*-\n",
        "import dataiku\n",
        "import pandas as pd, numpy as np\n",
        "from dataiku import pandasutils as pdu\n",
        "from dataiku import SQLExecutor2, Dataset\n",
        "from dataikuapi import DSSClient\n",
        "\n",
        "\n",
        "client \u003d dataiku.api_client()\n",
        "project_key \u003d dataiku.get_custom_variables()[\u0027projectKey\u0027]\n",
        "executor \u003d SQLExecutor2(connection\u003d\"test_connection\")\n",
        "\n",
        "\n",
        "# Read recipe inputs\n",
        "synthetic_data2_prepared \u003d dataiku.Dataset(\"synthetic_data2_prepared\")\n",
        "synthetic_data2_prepared_df \u003d synthetic_data2_prepared.get_dataframe()"
      ]
    },
    {
      "cell_type": "code",
      "metadata": {},
      "outputs": [],
      "execution_count": 0,
      "source": [
        "which_query \u003d int(dataiku.get_custom_variables()[\u0027which_query\u0027])"
      ]
    },
    {
      "cell_type": "code",
      "metadata": {},
      "outputs": [],
      "execution_count": 0,
      "source": [
        "if which_query \u003d\u003d 1:\n",
        "    query \u003d f\"\"\"SELECT *\n",
        "                FROM \"{project_key}_synthetic_data2_prepared\"\n",
        "                LIMIT(1) \"\"\"\n",
        "elif which_query \u003d\u003d 1:\n",
        "    query \u003d f\"\"\"SELECT * FROM \"{project_key}_synthetic_data2_prepared\" LIMIT(1) \"\"\""
      ]
    },
    {
      "cell_type": "code",
      "metadata": {},
      "outputs": [],
      "execution_count": 0,
      "source": [
        "sql_in_py_df \u003d executor.query_to_df(query)\n",
        "\n",
        "sql_in_py_df"
      ]
    },
    {
      "cell_type": "code",
      "metadata": {},
      "outputs": [],
      "execution_count": 0,
      "source": [
        "# Write recipe outputs\n",
        "sql_in_py \u003d dataiku.Dataset(\"sql_in_py\")\n",
        "sql_in_py.write_with_schema(sql_in_py_df)"
      ]
    }
  ]
}
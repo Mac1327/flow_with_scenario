{
  "metadata": {
    "kernelspec": {
      "name": "python3",
      "display_name": "Python 3",
      "language": "python"
    },
    "associatedRecipe": "compute_sql_in_py",
    "creator": "admin",
    "createdOn": 1638699283630,
    "tags": [
      "recipe-editor"
    ],
    "customFields": {},
    "hide_input": false,
    "language_info": {
      "name": "python",
      "version": "3.7.9",
      "mimetype": "text/x-python",
      "codemirror_mode": {
        "name": "ipython",
        "version": 3
      },
      "pygments_lexer": "ipython3",
      "nbconvert_exporter": "python",
      "file_extension": ".py"
    },
    "modifiedBy": "admin"
  },
  "nbformat": 4,
  "nbformat_minor": 1,
  "cells": [
    {
      "execution_count": 27,
      "cell_type": "code",
      "metadata": {},
      "source": [
        "# -*- coding: utf-8 -*-\nimport dataiku\nimport pandas as pd, numpy as np\nfrom dataiku import pandasutils as pdu\nfrom dataiku import SQLExecutor2, Dataset\nfrom dataikuapi import DSSClient\n\n\nclient \u003d dataiku.api_client()\nproject_key \u003d dataiku.get_custom_variables()[\u0027projectKey\u0027]\nexecutor \u003d SQLExecutor2(connection\u003d\"test_connection\")\n\n\n# Read recipe inputs\nsynthetic_data2_prepared \u003d dataiku.Dataset(\"synthetic_data2_prepared\")\nsynthetic_data2_prepared_df \u003d synthetic_data2_prepared.get_dataframe()\n\nwhich_query \u003d int(dataiku.get_custom_variables()[\u0027which_query\u0027])\nwhich_query"
      ],
      "outputs": [
        {
          "output_type": "execute_result",
          "execution_count": 27,
          "data": {
            "text/plain": "1"
          },
          "metadata": {}
        }
      ]
    },
    {
      "execution_count": 0,
      "cell_type": "code",
      "metadata": {},
      "source": [
        "if which_query \u003d\u003d 1:\n    query \u003d f\"\"\"SELECT *\n                FROM \"{project_key}_synthetic_data2_prepared\"\n                LIMIT(1) \"\"\"\nelif which_query \u003d\u003d 2:\n    query \u003d f\"\"\"SELECT *\n                FROM \"{project_key}_synthetic_data2_prepared\"\n                LIMIT(2) \"\"\"\n\nsql_in_py_df \u003d executor.query_to_df(query)\n\n# Write recipe outputs\nsql_in_py \u003d dataiku.Dataset(\"sql_in_py\")\nsql_in_py.write_with_schema(sql_in_py_df)"
      ],
      "outputs": []
    }
  ]
}